{
 "cells": [
  {
   "cell_type": "code",
   "execution_count": 1,
   "metadata": {},
   "outputs": [],
   "source": [
    "###Function to split data set with splite range variable \"splite\"\n",
    "import csv\n",
    "import random\n",
    "\n",
    "def loadSplitDataSet(filename, splite, trainingSet=[], testSet=[]):\n",
    "    with open(filename, 'r') as csvfile:\n",
    "        lines = csv.reader(csvfile)\n",
    "        dataset = list(lines)\n",
    "        \n",
    "        for x in range(len(dataset)-1):\n",
    "            for y in range(4):\n",
    "                dataset[x][y] = float(dataset[x][y])\n",
    "            if random.random() < splite:\n",
    "                trainingSet.append(dataset[x])\n",
    "            else:\n",
    "                testSet.append(dataset[x])\n",
    "    return trainingSet, testSet\n",
    "\n",
    "\n",
    "###Function that calculate euclidean distance\n",
    "import math\n",
    "def euclideanDistance(instance1, instance2, fields):\n",
    "    distance = 0\n",
    "    for x in range(fields-1):\n",
    "        distance += pow((instance1[x] - instance2[x]), 2)\n",
    "    return math.sqrt(distance)\n",
    "\n",
    "###Main Algorithm code \n",
    "import operator\n",
    "def getNeighbors(trainingSet, testInstance, K):\n",
    "    distances = []\n",
    "    length = len(testInstance)  #number of fields in the instanceSet\n",
    "\n",
    "    for x in range(len(trainingSet)):  #get the euclidean dist between isntance and every element in the trainingSet\n",
    "        dist = euclideanDistance(trainingSet[x], testInstance, length)\n",
    "        print(dist)\n",
    "        print(trainingSet[x])\n",
    "        distances.append((trainingSet[x], dist))  #store distances in list\n",
    "     \n",
    "    distances.sort(key=operator.itemgetter(1))  #sort trainingSet according to thier distance from instanceSet\n",
    "    neighbors = []\n",
    "    for x in range(k-1):\n",
    "        neighbors.append(distances[x][0])\n",
    "    return neighbors                      #as a list"
   ]
  },
  {
   "cell_type": "code",
   "execution_count": 2,
   "metadata": {},
   "outputs": [
    {
     "name": "stdout",
     "output_type": "stream",
     "text": [
      "5.196152422706632\n",
      "[2, 2, 2, 'a']\n",
      "1.7320508075688772\n",
      "[4, 4, 4, 'b']\n",
      "3.4641016151377544\n",
      "[7, 7, 7, 'c']\n",
      "6.928203230275509\n",
      "[9, 9, 9, 'd']\n",
      "6.928203230275509\n",
      "[1, 1, 1, 'e']\n",
      "1.7320508075688772\n",
      "[6, 6, 6, 'f']\n",
      "[[4, 4, 4, 'b'], [6, 6, 6, 'f']]\n"
     ]
    }
   ],
   "source": [
    "#test code for the algorithm\n",
    "trainSet= [[2,2,2,'a'], [4,4,4,'b'], [7,7,7,'c'], [9,9,9,'d'], [1,1,1,'e'], [6,6,6,'f']]\n",
    "testSet = [5,5,5,'y']\n",
    "k =3\n",
    "neighbors = getNeighbors(trainSet, testSet, 2)\n",
    "print(neighbors)"
   ]
  },
  {
   "cell_type": "code",
   "execution_count": null,
   "metadata": {},
   "outputs": [],
   "source": []
  }
 ],
 "metadata": {
  "kernelspec": {
   "display_name": "Python 3",
   "language": "python",
   "name": "python3"
  },
  "language_info": {
   "codemirror_mode": {
    "name": "ipython",
    "version": 3
   },
   "file_extension": ".py",
   "mimetype": "text/x-python",
   "name": "python",
   "nbconvert_exporter": "python",
   "pygments_lexer": "ipython3",
   "version": "3.7.1"
  }
 },
 "nbformat": 4,
 "nbformat_minor": 2
}
